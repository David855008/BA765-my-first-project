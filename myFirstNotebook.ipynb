{
  "nbformat": 4,
  "nbformat_minor": 0,
  "metadata": {
    "colab": {
      "name": "myFirstNotebook.ipynb",
      "provenance": [],
      "mount_file_id": "1CtkldP0wWi5f71XeYIvnDs8uDUbgk-Ir",
      "authorship_tag": "ABX9TyNvlWYoyGIQiuTvMJVtlbic",
      "include_colab_link": true
    },
    "kernelspec": {
      "name": "python3",
      "display_name": "Python 3"
    },
    "language_info": {
      "name": "python"
    }
  },
  "cells": [
    {
      "cell_type": "markdown",
      "metadata": {
        "id": "view-in-github",
        "colab_type": "text"
      },
      "source": [
        "<a href=\"https://colab.research.google.com/github/David855008/BA765-my-first-project/blob/main/myFirstNotebook.ipynb\" target=\"_parent\"><img src=\"https://colab.research.google.com/assets/colab-badge.svg\" alt=\"Open In Colab\"/></a>"
      ]
    },
    {
      "cell_type": "markdown",
      "metadata": {
        "id": "STnvfZRn4J96"
      },
      "source": [
        "#This is my first notebook\n",
        "***\n",
        "* edited 2021.7.6\n"
      ]
    },
    {
      "cell_type": "code",
      "metadata": {
        "id": "GsxNWt-l1bwi",
        "colab": {
          "base_uri": "https://localhost:8080/"
        },
        "outputId": "4e5f94b7-f531-4b90-b311-bcfcec465952"
      },
      "source": [
        "print('Hello World')"
      ],
      "execution_count": null,
      "outputs": [
        {
          "output_type": "stream",
          "text": [
            "Hello World\n"
          ],
          "name": "stdout"
        }
      ]
    }
  ]
}