{
  "nbformat": 4,
  "nbformat_minor": 0,
  "metadata": {
    "colab": {
      "name": "myFirstNotebook.ipynb",
      "private_outputs": true,
      "provenance": [],
      "mount_file_id": "1CtkldP0wWi5f71XeYIvnDs8uDUbgk-Ir",
      "authorship_tag": "ABX9TyNrlblwS0OVxPlDGKT6TgcQ",
      "include_colab_link": true
    },
    "kernelspec": {
      "name": "python3",
      "display_name": "Python 3"
    },
    "language_info": {
      "name": "python"
    },
    "accelerator": "GPU"
  },
  "cells": [
    {
      "cell_type": "markdown",
      "metadata": {
        "id": "view-in-github",
        "colab_type": "text"
      },
      "source": [
        "<a href=\"https://colab.research.google.com/github/David855008/BA765-my-first-project/blob/main/myFirstNotebook.ipynb\" target=\"_parent\"><img src=\"https://colab.research.google.com/assets/colab-badge.svg\" alt=\"Open In Colab\"/></a>"
      ]
    },
    {
      "cell_type": "markdown",
      "metadata": {
        "id": "STnvfZRn4J96"
      },
      "source": [
        "#This is my first notebook\n",
        "***\n",
        "* edited 2021.7.6\n"
      ]
    },
    {
      "cell_type": "code",
      "metadata": {
        "id": "GsxNWt-l1bwi"
      },
      "source": [
        "print('Hello World')"
      ],
      "execution_count": null,
      "outputs": []
    },
    {
      "cell_type": "code",
      "metadata": {
        "id": "pX5clfe1EX5V"
      },
      "source": [
        "x=123\n",
        "y=123*x\n",
        "print(y)"
      ],
      "execution_count": null,
      "outputs": []
    },
    {
      "cell_type": "code",
      "metadata": {
        "id": "xxQwfCuoEc82"
      },
      "source": [
        ""
      ],
      "execution_count": null,
      "outputs": []
    }
  ]
}